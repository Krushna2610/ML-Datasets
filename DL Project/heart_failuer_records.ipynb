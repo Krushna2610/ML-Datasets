{
  "nbformat": 4,
  "nbformat_minor": 0,
  "metadata": {
    "colab": {
      "provenance": []
    },
    "kernelspec": {
      "name": "python3",
      "display_name": "Python 3"
    },
    "language_info": {
      "name": "python"
    }
  },
  "cells": [
    {
      "cell_type": "code",
      "execution_count": 1,
      "metadata": {
        "id": "XyEXmwGdvOrk"
      },
      "outputs": [],
      "source": [
        "import numpy as np\n",
        "import pandas as pd\n",
        "import seaborn as sns\n",
        "import matplotlib.pyplot as plt\n",
        "%matplotlib inline\n",
        "import warnings\n",
        "warnings.filterwarnings('ignore')\n",
        "\n",
        "import tensorflow as tf\n",
        "from tensorflow.keras import Sequential # used to build ANN\n",
        "from tensorflow.keras.layers import Dense # used to add hidden layers\n",
        "from sklearn.metrics import classification_report"
      ]
    },
    {
      "cell_type": "code",
      "source": [
        "# read the dataset\n",
        "df = pd.read_csv('/content/heart_failure_clinical_records_dataset.csv')\n",
        "df.head()"
      ],
      "metadata": {
        "colab": {
          "base_uri": "https://localhost:8080/",
          "height": 206
        },
        "id": "G5eUZKm1vk2F",
        "outputId": "01b65baa-d4e1-44b3-9127-68ad3f08d376"
      },
      "execution_count": 2,
      "outputs": [
        {
          "output_type": "execute_result",
          "data": {
            "text/plain": [
              "    age  anaemia  creatinine_phosphokinase  diabetes  ejection_fraction  \\\n",
              "0  75.0        0                       582         0                 20   \n",
              "1  55.0        0                      7861         0                 38   \n",
              "2  65.0        0                       146         0                 20   \n",
              "3  50.0        1                       111         0                 20   \n",
              "4  65.0        1                       160         1                 20   \n",
              "\n",
              "   high_blood_pressure  platelets  serum_creatinine  serum_sodium  sex  \\\n",
              "0                    1  265000.00               1.9           130    1   \n",
              "1                    0  263358.03               1.1           136    1   \n",
              "2                    0  162000.00               1.3           129    1   \n",
              "3                    0  210000.00               1.9           137    1   \n",
              "4                    0  327000.00               2.7           116    0   \n",
              "\n",
              "   smoking  time  DEATH_EVENT  \n",
              "0        0     4            1  \n",
              "1        0     6            1  \n",
              "2        1     7            1  \n",
              "3        0     7            1  \n",
              "4        0     8            1  "
            ],
            "text/html": [
              "\n",
              "  <div id=\"df-2709d998-34f5-468f-a0f2-0d688bf21fca\">\n",
              "    <div class=\"colab-df-container\">\n",
              "      <div>\n",
              "<style scoped>\n",
              "    .dataframe tbody tr th:only-of-type {\n",
              "        vertical-align: middle;\n",
              "    }\n",
              "\n",
              "    .dataframe tbody tr th {\n",
              "        vertical-align: top;\n",
              "    }\n",
              "\n",
              "    .dataframe thead th {\n",
              "        text-align: right;\n",
              "    }\n",
              "</style>\n",
              "<table border=\"1\" class=\"dataframe\">\n",
              "  <thead>\n",
              "    <tr style=\"text-align: right;\">\n",
              "      <th></th>\n",
              "      <th>age</th>\n",
              "      <th>anaemia</th>\n",
              "      <th>creatinine_phosphokinase</th>\n",
              "      <th>diabetes</th>\n",
              "      <th>ejection_fraction</th>\n",
              "      <th>high_blood_pressure</th>\n",
              "      <th>platelets</th>\n",
              "      <th>serum_creatinine</th>\n",
              "      <th>serum_sodium</th>\n",
              "      <th>sex</th>\n",
              "      <th>smoking</th>\n",
              "      <th>time</th>\n",
              "      <th>DEATH_EVENT</th>\n",
              "    </tr>\n",
              "  </thead>\n",
              "  <tbody>\n",
              "    <tr>\n",
              "      <th>0</th>\n",
              "      <td>75.0</td>\n",
              "      <td>0</td>\n",
              "      <td>582</td>\n",
              "      <td>0</td>\n",
              "      <td>20</td>\n",
              "      <td>1</td>\n",
              "      <td>265000.00</td>\n",
              "      <td>1.9</td>\n",
              "      <td>130</td>\n",
              "      <td>1</td>\n",
              "      <td>0</td>\n",
              "      <td>4</td>\n",
              "      <td>1</td>\n",
              "    </tr>\n",
              "    <tr>\n",
              "      <th>1</th>\n",
              "      <td>55.0</td>\n",
              "      <td>0</td>\n",
              "      <td>7861</td>\n",
              "      <td>0</td>\n",
              "      <td>38</td>\n",
              "      <td>0</td>\n",
              "      <td>263358.03</td>\n",
              "      <td>1.1</td>\n",
              "      <td>136</td>\n",
              "      <td>1</td>\n",
              "      <td>0</td>\n",
              "      <td>6</td>\n",
              "      <td>1</td>\n",
              "    </tr>\n",
              "    <tr>\n",
              "      <th>2</th>\n",
              "      <td>65.0</td>\n",
              "      <td>0</td>\n",
              "      <td>146</td>\n",
              "      <td>0</td>\n",
              "      <td>20</td>\n",
              "      <td>0</td>\n",
              "      <td>162000.00</td>\n",
              "      <td>1.3</td>\n",
              "      <td>129</td>\n",
              "      <td>1</td>\n",
              "      <td>1</td>\n",
              "      <td>7</td>\n",
              "      <td>1</td>\n",
              "    </tr>\n",
              "    <tr>\n",
              "      <th>3</th>\n",
              "      <td>50.0</td>\n",
              "      <td>1</td>\n",
              "      <td>111</td>\n",
              "      <td>0</td>\n",
              "      <td>20</td>\n",
              "      <td>0</td>\n",
              "      <td>210000.00</td>\n",
              "      <td>1.9</td>\n",
              "      <td>137</td>\n",
              "      <td>1</td>\n",
              "      <td>0</td>\n",
              "      <td>7</td>\n",
              "      <td>1</td>\n",
              "    </tr>\n",
              "    <tr>\n",
              "      <th>4</th>\n",
              "      <td>65.0</td>\n",
              "      <td>1</td>\n",
              "      <td>160</td>\n",
              "      <td>1</td>\n",
              "      <td>20</td>\n",
              "      <td>0</td>\n",
              "      <td>327000.00</td>\n",
              "      <td>2.7</td>\n",
              "      <td>116</td>\n",
              "      <td>0</td>\n",
              "      <td>0</td>\n",
              "      <td>8</td>\n",
              "      <td>1</td>\n",
              "    </tr>\n",
              "  </tbody>\n",
              "</table>\n",
              "</div>\n",
              "      <button class=\"colab-df-convert\" onclick=\"convertToInteractive('df-2709d998-34f5-468f-a0f2-0d688bf21fca')\"\n",
              "              title=\"Convert this dataframe to an interactive table.\"\n",
              "              style=\"display:none;\">\n",
              "        \n",
              "  <svg xmlns=\"http://www.w3.org/2000/svg\" height=\"24px\"viewBox=\"0 0 24 24\"\n",
              "       width=\"24px\">\n",
              "    <path d=\"M0 0h24v24H0V0z\" fill=\"none\"/>\n",
              "    <path d=\"M18.56 5.44l.94 2.06.94-2.06 2.06-.94-2.06-.94-.94-2.06-.94 2.06-2.06.94zm-11 1L8.5 8.5l.94-2.06 2.06-.94-2.06-.94L8.5 2.5l-.94 2.06-2.06.94zm10 10l.94 2.06.94-2.06 2.06-.94-2.06-.94-.94-2.06-.94 2.06-2.06.94z\"/><path d=\"M17.41 7.96l-1.37-1.37c-.4-.4-.92-.59-1.43-.59-.52 0-1.04.2-1.43.59L10.3 9.45l-7.72 7.72c-.78.78-.78 2.05 0 2.83L4 21.41c.39.39.9.59 1.41.59.51 0 1.02-.2 1.41-.59l7.78-7.78 2.81-2.81c.8-.78.8-2.07 0-2.86zM5.41 20L4 18.59l7.72-7.72 1.47 1.35L5.41 20z\"/>\n",
              "  </svg>\n",
              "      </button>\n",
              "      \n",
              "  <style>\n",
              "    .colab-df-container {\n",
              "      display:flex;\n",
              "      flex-wrap:wrap;\n",
              "      gap: 12px;\n",
              "    }\n",
              "\n",
              "    .colab-df-convert {\n",
              "      background-color: #E8F0FE;\n",
              "      border: none;\n",
              "      border-radius: 50%;\n",
              "      cursor: pointer;\n",
              "      display: none;\n",
              "      fill: #1967D2;\n",
              "      height: 32px;\n",
              "      padding: 0 0 0 0;\n",
              "      width: 32px;\n",
              "    }\n",
              "\n",
              "    .colab-df-convert:hover {\n",
              "      background-color: #E2EBFA;\n",
              "      box-shadow: 0px 1px 2px rgba(60, 64, 67, 0.3), 0px 1px 3px 1px rgba(60, 64, 67, 0.15);\n",
              "      fill: #174EA6;\n",
              "    }\n",
              "\n",
              "    [theme=dark] .colab-df-convert {\n",
              "      background-color: #3B4455;\n",
              "      fill: #D2E3FC;\n",
              "    }\n",
              "\n",
              "    [theme=dark] .colab-df-convert:hover {\n",
              "      background-color: #434B5C;\n",
              "      box-shadow: 0px 1px 3px 1px rgba(0, 0, 0, 0.15);\n",
              "      filter: drop-shadow(0px 1px 2px rgba(0, 0, 0, 0.3));\n",
              "      fill: #FFFFFF;\n",
              "    }\n",
              "  </style>\n",
              "\n",
              "      <script>\n",
              "        const buttonEl =\n",
              "          document.querySelector('#df-2709d998-34f5-468f-a0f2-0d688bf21fca button.colab-df-convert');\n",
              "        buttonEl.style.display =\n",
              "          google.colab.kernel.accessAllowed ? 'block' : 'none';\n",
              "\n",
              "        async function convertToInteractive(key) {\n",
              "          const element = document.querySelector('#df-2709d998-34f5-468f-a0f2-0d688bf21fca');\n",
              "          const dataTable =\n",
              "            await google.colab.kernel.invokeFunction('convertToInteractive',\n",
              "                                                     [key], {});\n",
              "          if (!dataTable) return;\n",
              "\n",
              "          const docLinkHtml = 'Like what you see? Visit the ' +\n",
              "            '<a target=\"_blank\" href=https://colab.research.google.com/notebooks/data_table.ipynb>data table notebook</a>'\n",
              "            + ' to learn more about interactive tables.';\n",
              "          element.innerHTML = '';\n",
              "          dataTable['output_type'] = 'display_data';\n",
              "          await google.colab.output.renderOutput(dataTable, element);\n",
              "          const docLink = document.createElement('div');\n",
              "          docLink.innerHTML = docLinkHtml;\n",
              "          element.appendChild(docLink);\n",
              "        }\n",
              "      </script>\n",
              "    </div>\n",
              "  </div>\n",
              "  "
            ]
          },
          "metadata": {},
          "execution_count": 2
        }
      ]
    },
    {
      "cell_type": "code",
      "source": [
        "df.info()"
      ],
      "metadata": {
        "colab": {
          "base_uri": "https://localhost:8080/"
        },
        "id": "vnxnuP3jvxgl",
        "outputId": "45a5389f-8107-4b35-e8b8-301f472f52d9"
      },
      "execution_count": 3,
      "outputs": [
        {
          "output_type": "stream",
          "name": "stdout",
          "text": [
            "<class 'pandas.core.frame.DataFrame'>\n",
            "RangeIndex: 299 entries, 0 to 298\n",
            "Data columns (total 13 columns):\n",
            " #   Column                    Non-Null Count  Dtype  \n",
            "---  ------                    --------------  -----  \n",
            " 0   age                       299 non-null    float64\n",
            " 1   anaemia                   299 non-null    int64  \n",
            " 2   creatinine_phosphokinase  299 non-null    int64  \n",
            " 3   diabetes                  299 non-null    int64  \n",
            " 4   ejection_fraction         299 non-null    int64  \n",
            " 5   high_blood_pressure       299 non-null    int64  \n",
            " 6   platelets                 299 non-null    float64\n",
            " 7   serum_creatinine          299 non-null    float64\n",
            " 8   serum_sodium              299 non-null    int64  \n",
            " 9   sex                       299 non-null    int64  \n",
            " 10  smoking                   299 non-null    int64  \n",
            " 11  time                      299 non-null    int64  \n",
            " 12  DEATH_EVENT               299 non-null    int64  \n",
            "dtypes: float64(3), int64(10)\n",
            "memory usage: 30.5 KB\n"
          ]
        }
      ]
    },
    {
      "cell_type": "code",
      "source": [
        "df['DEATH_EVENT'].value_counts()"
      ],
      "metadata": {
        "colab": {
          "base_uri": "https://localhost:8080/"
        },
        "id": "TRomIdICvzm8",
        "outputId": "62424296-58e2-4ee6-f0b1-7c828bc945bb"
      },
      "execution_count": 4,
      "outputs": [
        {
          "output_type": "execute_result",
          "data": {
            "text/plain": [
              "0    203\n",
              "1     96\n",
              "Name: DEATH_EVENT, dtype: int64"
            ]
          },
          "metadata": {},
          "execution_count": 4
        }
      ]
    },
    {
      "cell_type": "code",
      "source": [
        "sns.countplot(df['DEATH_EVENT'])"
      ],
      "metadata": {
        "colab": {
          "base_uri": "https://localhost:8080/",
          "height": 297
        },
        "id": "teHxcukYwE7c",
        "outputId": "f7b08f30-f5fe-4319-d766-05c24250b1d1"
      },
      "execution_count": 5,
      "outputs": [
        {
          "output_type": "execute_result",
          "data": {
            "text/plain": [
              "<AxesSubplot:xlabel='DEATH_EVENT', ylabel='count'>"
            ]
          },
          "metadata": {},
          "execution_count": 5
        },
        {
          "output_type": "display_data",
          "data": {
            "text/plain": [
              "<Figure size 432x288 with 1 Axes>"
            ],
            "image/png": "[encoded data removed]"
          },
          "metadata": {
            "needs_background": "light"
          }
        }
      ]
    },
    {
      "cell_type": "code",
      "source": [
        "\n",
        "\n",
        "#assigning values to features as X and target as y\n",
        "X=df.drop([\"DEATH_EVENT\"],axis=1)\n",
        "y=df[\"DEATH_EVENT\"]"
      ],
      "metadata": {
        "id": "7mAB71mYwIA7"
      },
      "execution_count": 6,
      "outputs": []
    },
    {
      "cell_type": "code",
      "source": [
        "#spliting test and training sets\n",
        "from sklearn.model_selection import train_test_split\n",
        "X_train, X_test, y_train,y_test = train_test_split(X,y,test_size=0.2,random_state=71)"
      ],
      "metadata": {
        "id": "DJM0_XG7wpfV"
      },
      "execution_count": 7,
      "outputs": []
    },
    {
      "cell_type": "code",
      "source": [
        "print(X_train.shape)\n",
        "print(X_test.shape)\n",
        "print(y_train.shape)\n",
        "print(y_test.shape)"
      ],
      "metadata": {
        "colab": {
          "base_uri": "https://localhost:8080/"
        },
        "id": "E0rI2ogTxr7Q",
        "outputId": "063b8bd8-ca0f-42c7-912d-033d91c96dab"
      },
      "execution_count": 8,
      "outputs": [
        {
          "output_type": "stream",
          "name": "stdout",
          "text": [
            "(239, 12)\n",
            "(60, 12)\n",
            "(239,)\n",
            "(60,)\n"
          ]
        }
      ]
    },
    {
      "cell_type": "code",
      "source": [
        "#Set up a standard scaler for the features\n",
        "\n",
        "from sklearn.preprocessing import StandardScaler\n",
        "scaler = StandardScaler()\n",
        "\n",
        "X_train = scaler.fit_transform(X_train)\n",
        "X_test  = scaler.transform(X_test) "
      ],
      "metadata": {
        "id": "ZCCunTEiwZ_d"
      },
      "execution_count": 9,
      "outputs": []
    },
    {
      "cell_type": "code",
      "source": [
        "X_train"
      ],
      "metadata": {
        "colab": {
          "base_uri": "https://localhost:8080/"
        },
        "id": "LP7orMQjxndz",
        "outputId": "dea51b0d-da71-4495-d94d-e4f362558949"
      },
      "execution_count": 10,
      "outputs": [
        {
          "output_type": "execute_result",
          "data": {
            "text/plain": [
              "array([[-0.20329345,  1.16890403, -0.20625801, ..., -1.46449201,\n",
              "        -0.69604026, -0.44441423],\n",
              "       [-1.36539901, -0.85550223, -0.50867365, ...,  0.68283063,\n",
              "        -0.69604026, -0.59704027],\n",
              "       [-1.53141409, -0.85550223,  4.3960104 , ...,  0.68283063,\n",
              "         1.43669849, -0.49528958],\n",
              "       ...,\n",
              "       [ 2.86798552,  1.16890403, -0.23401134, ...,  0.68283063,\n",
              "        -0.69604026, -0.96588652],\n",
              "       [ 0.12873671, -0.85550223, -0.36799295, ...,  0.68283063,\n",
              "         1.43669849, -1.47463998],\n",
              "       [-1.28239147,  1.16890403,  1.206291  , ...,  0.68283063,\n",
              "        -0.69604026, -0.48257074]])"
            ]
          },
          "metadata": {},
          "execution_count": 10
        }
      ]
    },
    {
      "cell_type": "code",
      "source": [
        "# step 1: initialize model\n",
        "ann = Sequential()\n",
        "\n",
        "# step 2: add layers into model\n",
        "ann.add(Dense(units= 10, activation = 'relu')) # create  hidden layers\n",
        "ann.add(Dense(units= 10, activation = 'relu')) # create  hidden layers\n",
        "\n",
        "ann.add(Dense(units = 1, activation = 'sigmoid')) # output layer\n",
        "\n",
        "\n",
        "# step 3: establish connection between the layers\n",
        "ann.compile(optimizer = 'adam', loss = 'binary_crossentropy', metrics = ['accuracy'])\n",
        "\n",
        "\n",
        "# step 4: train the model\n",
        "history = ann.fit(X_train, y_train, batch_size = 32, epochs = 150, validation_split = 0.2)\n",
        "\n",
        "\n"
      ],
      "metadata": {
        "colab": {
          "base_uri": "https://localhost:8080/"
        },
        "id": "lh6FmHUEw-d8",
        "outputId": "06d58258-726a-4ec0-e744-aad20423d398"
      },
      "execution_count": 16,
      "outputs": [
        {
          "output_type": "stream",
          "name": "stdout",
          "text": [
            "Epoch 1/150\n",
            "6/6 [==============================] - 2s 131ms/step - loss: 0.8029 - accuracy: 0.3403 - val_loss: 0.8304 - val_accuracy: 0.3125\n",
            "Epoch 2/150\n",
            "6/6 [==============================] - 0s 31ms/step - loss: 0.7732 - accuracy: 0.3508 - val_loss: 0.8067 - val_accuracy: 0.3125\n",
            "Epoch 3/150\n",
            "6/6 [==============================] - 0s 21ms/step - loss: 0.7484 - accuracy: 0.3717 - val_loss: 0.7846 - val_accuracy: 0.3333\n",
            "Epoch 4/150\n",
            "6/6 [==============================] - 0s 27ms/step - loss: 0.7246 - accuracy: 0.4241 - val_loss: 0.7644 - val_accuracy: 0.3958\n",
            "Epoch 5/150\n",
            "6/6 [==============================] - 0s 20ms/step - loss: 0.7038 - accuracy: 0.4503 - val_loss: 0.7464 - val_accuracy: 0.4167\n",
            "Epoch 6/150\n",
            "6/6 [==============================] - 0s 14ms/step - loss: 0.6868 - accuracy: 0.4921 - val_loss: 0.7294 - val_accuracy: 0.4792\n",
            "Epoch 7/150\n",
            "6/6 [==============================] - 0s 14ms/step - loss: 0.6688 - accuracy: 0.5393 - val_loss: 0.7141 - val_accuracy: 0.5417\n",
            "Epoch 8/150\n",
            "6/6 [==============================] - 0s 20ms/step - loss: 0.6537 - accuracy: 0.5969 - val_loss: 0.6994 - val_accuracy: 0.5208\n",
            "Epoch 9/150\n",
            "6/6 [==============================] - 0s 26ms/step - loss: 0.6410 - accuracy: 0.6283 - val_loss: 0.6849 - val_accuracy: 0.5417\n",
            "Epoch 10/150\n",
            "6/6 [==============================] - 0s 32ms/step - loss: 0.6288 - accuracy: 0.6649 - val_loss: 0.6715 - val_accuracy: 0.5833\n",
            "Epoch 11/150\n",
            "6/6 [==============================] - 0s 37ms/step - loss: 0.6163 - accuracy: 0.6911 - val_loss: 0.6596 - val_accuracy: 0.6250\n",
            "Epoch 12/150\n",
            "6/6 [==============================] - 0s 39ms/step - loss: 0.6069 - accuracy: 0.6963 - val_loss: 0.6479 - val_accuracy: 0.6667\n",
            "Epoch 13/150\n",
            "6/6 [==============================] - 0s 26ms/step - loss: 0.5972 - accuracy: 0.6859 - val_loss: 0.6372 - val_accuracy: 0.6875\n",
            "Epoch 14/150\n",
            "6/6 [==============================] - 0s 12ms/step - loss: 0.5885 - accuracy: 0.7016 - val_loss: 0.6269 - val_accuracy: 0.6875\n",
            "Epoch 15/150\n",
            "6/6 [==============================] - 0s 12ms/step - loss: 0.5797 - accuracy: 0.7016 - val_loss: 0.6173 - val_accuracy: 0.7083\n",
            "Epoch 16/150\n",
            "6/6 [==============================] - 0s 34ms/step - loss: 0.5719 - accuracy: 0.7068 - val_loss: 0.6077 - val_accuracy: 0.7083\n",
            "Epoch 17/150\n",
            "6/6 [==============================] - 0s 34ms/step - loss: 0.5638 - accuracy: 0.7120 - val_loss: 0.5989 - val_accuracy: 0.7292\n",
            "Epoch 18/150\n",
            "6/6 [==============================] - 0s 27ms/step - loss: 0.5563 - accuracy: 0.7225 - val_loss: 0.5905 - val_accuracy: 0.7500\n",
            "Epoch 19/150\n",
            "6/6 [==============================] - 0s 42ms/step - loss: 0.5493 - accuracy: 0.7277 - val_loss: 0.5824 - val_accuracy: 0.7708\n",
            "Epoch 20/150\n",
            "6/6 [==============================] - 0s 38ms/step - loss: 0.5429 - accuracy: 0.7382 - val_loss: 0.5742 - val_accuracy: 0.7708\n",
            "Epoch 21/150\n",
            "6/6 [==============================] - 0s 31ms/step - loss: 0.5365 - accuracy: 0.7382 - val_loss: 0.5661 - val_accuracy: 0.7708\n",
            "Epoch 22/150\n",
            "6/6 [==============================] - 0s 35ms/step - loss: 0.5303 - accuracy: 0.7382 - val_loss: 0.5585 - val_accuracy: 0.7708\n",
            "Epoch 23/150\n",
            "6/6 [==============================] - 0s 31ms/step - loss: 0.5240 - accuracy: 0.7382 - val_loss: 0.5512 - val_accuracy: 0.7708\n",
            "Epoch 24/150\n",
            "6/6 [==============================] - 0s 22ms/step - loss: 0.5183 - accuracy: 0.7382 - val_loss: 0.5438 - val_accuracy: 0.7708\n",
            "Epoch 25/150\n",
            "6/6 [==============================] - 0s 25ms/step - loss: 0.5125 - accuracy: 0.7435 - val_loss: 0.5366 - val_accuracy: 0.7917\n",
            "Epoch 26/150\n",
            "6/6 [==============================] - 0s 30ms/step - loss: 0.5067 - accuracy: 0.7487 - val_loss: 0.5298 - val_accuracy: 0.7917\n",
            "Epoch 27/150\n",
            "6/6 [==============================] - 0s 20ms/step - loss: 0.5011 - accuracy: 0.7592 - val_loss: 0.5235 - val_accuracy: 0.7917\n",
            "Epoch 28/150\n",
            "6/6 [==============================] - 0s 27ms/step - loss: 0.4960 - accuracy: 0.7644 - val_loss: 0.5171 - val_accuracy: 0.7917\n",
            "Epoch 29/150\n",
            "6/6 [==============================] - 0s 20ms/step - loss: 0.4907 - accuracy: 0.7696 - val_loss: 0.5110 - val_accuracy: 0.7917\n",
            "Epoch 30/150\n",
            "6/6 [==============================] - 0s 18ms/step - loss: 0.4856 - accuracy: 0.7749 - val_loss: 0.5045 - val_accuracy: 0.7917\n",
            "Epoch 31/150\n",
            "6/6 [==============================] - 0s 17ms/step - loss: 0.4804 - accuracy: 0.7749 - val_loss: 0.4979 - val_accuracy: 0.7917\n",
            "Epoch 32/150\n",
            "6/6 [==============================] - 0s 16ms/step - loss: 0.4754 - accuracy: 0.7801 - val_loss: 0.4915 - val_accuracy: 0.8125\n",
            "Epoch 33/150\n",
            "6/6 [==============================] - 0s 17ms/step - loss: 0.4706 - accuracy: 0.7801 - val_loss: 0.4852 - val_accuracy: 0.8125\n",
            "Epoch 34/150\n",
            "6/6 [==============================] - 0s 19ms/step - loss: 0.4657 - accuracy: 0.7853 - val_loss: 0.4794 - val_accuracy: 0.8125\n",
            "Epoch 35/150\n",
            "6/6 [==============================] - 0s 15ms/step - loss: 0.4615 - accuracy: 0.7958 - val_loss: 0.4736 - val_accuracy: 0.8125\n",
            "Epoch 36/150\n",
            "6/6 [==============================] - 0s 19ms/step - loss: 0.4568 - accuracy: 0.7958 - val_loss: 0.4680 - val_accuracy: 0.8125\n",
            "Epoch 37/150\n",
            "6/6 [==============================] - 0s 14ms/step - loss: 0.4523 - accuracy: 0.7958 - val_loss: 0.4629 - val_accuracy: 0.8125\n",
            "Epoch 38/150\n",
            "6/6 [==============================] - 0s 30ms/step - loss: 0.4483 - accuracy: 0.7958 - val_loss: 0.4579 - val_accuracy: 0.8125\n",
            "Epoch 39/150\n",
            "6/6 [==============================] - 0s 35ms/step - loss: 0.4443 - accuracy: 0.8010 - val_loss: 0.4529 - val_accuracy: 0.8125\n",
            "Epoch 40/150\n",
            "6/6 [==============================] - 0s 34ms/step - loss: 0.4406 - accuracy: 0.8063 - val_loss: 0.4474 - val_accuracy: 0.8125\n",
            "Epoch 41/150\n",
            "6/6 [==============================] - 0s 20ms/step - loss: 0.4366 - accuracy: 0.8063 - val_loss: 0.4422 - val_accuracy: 0.8125\n",
            "Epoch 42/150\n",
            "6/6 [==============================] - 0s 19ms/step - loss: 0.4330 - accuracy: 0.8063 - val_loss: 0.4368 - val_accuracy: 0.8125\n",
            "Epoch 43/150\n",
            "6/6 [==============================] - 0s 8ms/step - loss: 0.4291 - accuracy: 0.8115 - val_loss: 0.4321 - val_accuracy: 0.8125\n",
            "Epoch 44/150\n",
            "6/6 [==============================] - 0s 11ms/step - loss: 0.4252 - accuracy: 0.8168 - val_loss: 0.4277 - val_accuracy: 0.8125\n",
            "Epoch 45/150\n",
            "6/6 [==============================] - 0s 8ms/step - loss: 0.4215 - accuracy: 0.8168 - val_loss: 0.4230 - val_accuracy: 0.8125\n",
            "Epoch 46/150\n",
            "6/6 [==============================] - 0s 9ms/step - loss: 0.4181 - accuracy: 0.8168 - val_loss: 0.4184 - val_accuracy: 0.8125\n",
            "Epoch 47/150\n",
            "6/6 [==============================] - 0s 9ms/step - loss: 0.4150 - accuracy: 0.8220 - val_loss: 0.4143 - val_accuracy: 0.8750\n",
            "Epoch 48/150\n",
            "6/6 [==============================] - 0s 12ms/step - loss: 0.4113 - accuracy: 0.8220 - val_loss: 0.4095 - val_accuracy: 0.8750\n",
            "Epoch 49/150\n",
            "6/6 [==============================] - 0s 12ms/step - loss: 0.4082 - accuracy: 0.8220 - val_loss: 0.4050 - val_accuracy: 0.8750\n",
            "Epoch 50/150\n",
            "6/6 [==============================] - 0s 10ms/step - loss: 0.4045 - accuracy: 0.8220 - val_loss: 0.4016 - val_accuracy: 0.8750\n",
            "Epoch 51/150\n",
            "6/6 [==============================] - 0s 10ms/step - loss: 0.4015 - accuracy: 0.8272 - val_loss: 0.3978 - val_accuracy: 0.8750\n",
            "Epoch 52/150\n",
            "6/6 [==============================] - 0s 12ms/step - loss: 0.3986 - accuracy: 0.8272 - val_loss: 0.3940 - val_accuracy: 0.8750\n",
            "Epoch 53/150\n",
            "6/6 [==============================] - 0s 12ms/step - loss: 0.3958 - accuracy: 0.8272 - val_loss: 0.3896 - val_accuracy: 0.8750\n",
            "Epoch 54/150\n",
            "6/6 [==============================] - 0s 11ms/step - loss: 0.3928 - accuracy: 0.8325 - val_loss: 0.3858 - val_accuracy: 0.8750\n",
            "Epoch 55/150\n",
            "6/6 [==============================] - 0s 11ms/step - loss: 0.3897 - accuracy: 0.8325 - val_loss: 0.3829 - val_accuracy: 0.8750\n",
            "Epoch 56/150\n",
            "6/6 [==============================] - 0s 9ms/step - loss: 0.3869 - accuracy: 0.8325 - val_loss: 0.3791 - val_accuracy: 0.8750\n",
            "Epoch 57/150\n",
            "6/6 [==============================] - 0s 11ms/step - loss: 0.3840 - accuracy: 0.8429 - val_loss: 0.3758 - val_accuracy: 0.8958\n",
            "Epoch 58/150\n",
            "6/6 [==============================] - 0s 8ms/step - loss: 0.3812 - accuracy: 0.8429 - val_loss: 0.3728 - val_accuracy: 0.8958\n",
            "Epoch 59/150\n",
            "6/6 [==============================] - 0s 12ms/step - loss: 0.3784 - accuracy: 0.8429 - val_loss: 0.3695 - val_accuracy: 0.8750\n",
            "Epoch 60/150\n",
            "6/6 [==============================] - 0s 8ms/step - loss: 0.3750 - accuracy: 0.8482 - val_loss: 0.3660 - val_accuracy: 0.8750\n",
            "Epoch 61/150\n",
            "6/6 [==============================] - 0s 10ms/step - loss: 0.3726 - accuracy: 0.8482 - val_loss: 0.3633 - val_accuracy: 0.8750\n",
            "Epoch 62/150\n",
            "6/6 [==============================] - 0s 13ms/step - loss: 0.3692 - accuracy: 0.8534 - val_loss: 0.3596 - val_accuracy: 0.8750\n",
            "Epoch 63/150\n",
            "6/6 [==============================] - 0s 12ms/step - loss: 0.3665 - accuracy: 0.8586 - val_loss: 0.3568 - val_accuracy: 0.8542\n",
            "Epoch 64/150\n",
            "6/6 [==============================] - 0s 9ms/step - loss: 0.3638 - accuracy: 0.8586 - val_loss: 0.3536 - val_accuracy: 0.8542\n",
            "Epoch 65/150\n",
            "6/6 [==============================] - 0s 9ms/step - loss: 0.3615 - accuracy: 0.8586 - val_loss: 0.3518 - val_accuracy: 0.8750\n",
            "Epoch 66/150\n",
            "6/6 [==============================] - 0s 12ms/step - loss: 0.3588 - accuracy: 0.8534 - val_loss: 0.3485 - val_accuracy: 0.8750\n",
            "Epoch 67/150\n",
            "6/6 [==============================] - 0s 10ms/step - loss: 0.3563 - accuracy: 0.8534 - val_loss: 0.3458 - val_accuracy: 0.8750\n",
            "Epoch 68/150\n",
            "6/6 [==============================] - 0s 9ms/step - loss: 0.3539 - accuracy: 0.8534 - val_loss: 0.3440 - val_accuracy: 0.8750\n",
            "Epoch 69/150\n",
            "6/6 [==============================] - 0s 9ms/step - loss: 0.3518 - accuracy: 0.8534 - val_loss: 0.3414 - val_accuracy: 0.8750\n",
            "Epoch 70/150\n",
            "6/6 [==============================] - 0s 13ms/step - loss: 0.3496 - accuracy: 0.8534 - val_loss: 0.3389 - val_accuracy: 0.8750\n",
            "Epoch 71/150\n",
            "6/6 [==============================] - 0s 12ms/step - loss: 0.3475 - accuracy: 0.8586 - val_loss: 0.3367 - val_accuracy: 0.8750\n",
            "Epoch 72/150\n",
            "6/6 [==============================] - 0s 12ms/step - loss: 0.3455 - accuracy: 0.8586 - val_loss: 0.3343 - val_accuracy: 0.8750\n",
            "Epoch 73/150\n",
            "6/6 [==============================] - 0s 12ms/step - loss: 0.3433 - accuracy: 0.8586 - val_loss: 0.3328 - val_accuracy: 0.8750\n",
            "Epoch 74/150\n",
            "6/6 [==============================] - 0s 9ms/step - loss: 0.3414 - accuracy: 0.8586 - val_loss: 0.3311 - val_accuracy: 0.8750\n",
            "Epoch 75/150\n",
            "6/6 [==============================] - 0s 9ms/step - loss: 0.3392 - accuracy: 0.8586 - val_loss: 0.3295 - val_accuracy: 0.8750\n",
            "Epoch 76/150\n",
            "6/6 [==============================] - 0s 12ms/step - loss: 0.3374 - accuracy: 0.8586 - val_loss: 0.3281 - val_accuracy: 0.8750\n",
            "Epoch 77/150\n",
            "6/6 [==============================] - 0s 12ms/step - loss: 0.3354 - accuracy: 0.8586 - val_loss: 0.3259 - val_accuracy: 0.8750\n",
            "Epoch 78/150\n",
            "6/6 [==============================] - 0s 12ms/step - loss: 0.3339 - accuracy: 0.8586 - val_loss: 0.3241 - val_accuracy: 0.8750\n",
            "Epoch 79/150\n",
            "6/6 [==============================] - 0s 8ms/step - loss: 0.3317 - accuracy: 0.8586 - val_loss: 0.3228 - val_accuracy: 0.8750\n",
            "Epoch 80/150\n",
            "6/6 [==============================] - 0s 12ms/step - loss: 0.3301 - accuracy: 0.8586 - val_loss: 0.3217 - val_accuracy: 0.8750\n",
            "Epoch 81/150\n",
            "6/6 [==============================] - 0s 9ms/step - loss: 0.3283 - accuracy: 0.8586 - val_loss: 0.3210 - val_accuracy: 0.8750\n",
            "Epoch 82/150\n",
            "6/6 [==============================] - 0s 9ms/step - loss: 0.3267 - accuracy: 0.8586 - val_loss: 0.3193 - val_accuracy: 0.8750\n",
            "Epoch 83/150\n",
            "6/6 [==============================] - 0s 13ms/step - loss: 0.3249 - accuracy: 0.8534 - val_loss: 0.3179 - val_accuracy: 0.8750\n",
            "Epoch 84/150\n",
            "6/6 [==============================] - 0s 10ms/step - loss: 0.3232 - accuracy: 0.8639 - val_loss: 0.3172 - val_accuracy: 0.8750\n",
            "Epoch 85/150\n",
            "6/6 [==============================] - 0s 9ms/step - loss: 0.3216 - accuracy: 0.8639 - val_loss: 0.3167 - val_accuracy: 0.8750\n",
            "Epoch 86/150\n",
            "6/6 [==============================] - 0s 8ms/step - loss: 0.3200 - accuracy: 0.8639 - val_loss: 0.3157 - val_accuracy: 0.8750\n",
            "Epoch 87/150\n",
            "6/6 [==============================] - 0s 8ms/step - loss: 0.3186 - accuracy: 0.8691 - val_loss: 0.3144 - val_accuracy: 0.8750\n",
            "Epoch 88/150\n",
            "6/6 [==============================] - 0s 10ms/step - loss: 0.3171 - accuracy: 0.8743 - val_loss: 0.3134 - val_accuracy: 0.8750\n",
            "Epoch 89/150\n",
            "6/6 [==============================] - 0s 12ms/step - loss: 0.3156 - accuracy: 0.8743 - val_loss: 0.3128 - val_accuracy: 0.8750\n",
            "Epoch 90/150\n",
            "6/6 [==============================] - 0s 10ms/step - loss: 0.3141 - accuracy: 0.8743 - val_loss: 0.3117 - val_accuracy: 0.8750\n",
            "Epoch 91/150\n",
            "6/6 [==============================] - 0s 10ms/step - loss: 0.3127 - accuracy: 0.8743 - val_loss: 0.3113 - val_accuracy: 0.8750\n",
            "Epoch 92/150\n",
            "6/6 [==============================] - 0s 9ms/step - loss: 0.3114 - accuracy: 0.8796 - val_loss: 0.3106 - val_accuracy: 0.8750\n",
            "Epoch 93/150\n",
            "6/6 [==============================] - 0s 9ms/step - loss: 0.3099 - accuracy: 0.8848 - val_loss: 0.3101 - val_accuracy: 0.8750\n",
            "Epoch 94/150\n",
            "6/6 [==============================] - 0s 8ms/step - loss: 0.3084 - accuracy: 0.8848 - val_loss: 0.3095 - val_accuracy: 0.8750\n",
            "Epoch 95/150\n",
            "6/6 [==============================] - 0s 9ms/step - loss: 0.3075 - accuracy: 0.8901 - val_loss: 0.3085 - val_accuracy: 0.8750\n",
            "Epoch 96/150\n",
            "6/6 [==============================] - 0s 9ms/step - loss: 0.3060 - accuracy: 0.8901 - val_loss: 0.3080 - val_accuracy: 0.8750\n",
            "Epoch 97/150\n",
            "6/6 [==============================] - 0s 8ms/step - loss: 0.3054 - accuracy: 0.8848 - val_loss: 0.3060 - val_accuracy: 0.8750\n",
            "Epoch 98/150\n",
            "6/6 [==============================] - 0s 9ms/step - loss: 0.3039 - accuracy: 0.8848 - val_loss: 0.3062 - val_accuracy: 0.8750\n",
            "Epoch 99/150\n",
            "6/6 [==============================] - 0s 12ms/step - loss: 0.3027 - accuracy: 0.8848 - val_loss: 0.3056 - val_accuracy: 0.8750\n",
            "Epoch 100/150\n",
            "6/6 [==============================] - 0s 10ms/step - loss: 0.3018 - accuracy: 0.8953 - val_loss: 0.3051 - val_accuracy: 0.8750\n",
            "Epoch 101/150\n",
            "6/6 [==============================] - 0s 12ms/step - loss: 0.3006 - accuracy: 0.8953 - val_loss: 0.3056 - val_accuracy: 0.8750\n",
            "Epoch 102/150\n",
            "6/6 [==============================] - 0s 12ms/step - loss: 0.2993 - accuracy: 0.8953 - val_loss: 0.3057 - val_accuracy: 0.8750\n",
            "Epoch 103/150\n",
            "6/6 [==============================] - 0s 8ms/step - loss: 0.2983 - accuracy: 0.8953 - val_loss: 0.3057 - val_accuracy: 0.8750\n",
            "Epoch 104/150\n",
            "6/6 [==============================] - 0s 11ms/step - loss: 0.2973 - accuracy: 0.8953 - val_loss: 0.3062 - val_accuracy: 0.8750\n",
            "Epoch 105/150\n",
            "6/6 [==============================] - 0s 8ms/step - loss: 0.2960 - accuracy: 0.8953 - val_loss: 0.3066 - val_accuracy: 0.8542\n",
            "Epoch 106/150\n",
            "6/6 [==============================] - 0s 9ms/step - loss: 0.2950 - accuracy: 0.8901 - val_loss: 0.3068 - val_accuracy: 0.8542\n",
            "Epoch 107/150\n",
            "6/6 [==============================] - 0s 8ms/step - loss: 0.2939 - accuracy: 0.8901 - val_loss: 0.3060 - val_accuracy: 0.8542\n",
            "Epoch 108/150\n",
            "6/6 [==============================] - 0s 9ms/step - loss: 0.2929 - accuracy: 0.8953 - val_loss: 0.3058 - val_accuracy: 0.8750\n",
            "Epoch 109/150\n",
            "6/6 [==============================] - 0s 9ms/step - loss: 0.2917 - accuracy: 0.8953 - val_loss: 0.3057 - val_accuracy: 0.8750\n",
            "Epoch 110/150\n",
            "6/6 [==============================] - 0s 8ms/step - loss: 0.2904 - accuracy: 0.8953 - val_loss: 0.3063 - val_accuracy: 0.8750\n",
            "Epoch 111/150\n",
            "6/6 [==============================] - 0s 9ms/step - loss: 0.2898 - accuracy: 0.8901 - val_loss: 0.3063 - val_accuracy: 0.8750\n",
            "Epoch 112/150\n",
            "6/6 [==============================] - 0s 9ms/step - loss: 0.2884 - accuracy: 0.8953 - val_loss: 0.3075 - val_accuracy: 0.8750\n",
            "Epoch 113/150\n",
            "6/6 [==============================] - 0s 9ms/step - loss: 0.2874 - accuracy: 0.9005 - val_loss: 0.3076 - val_accuracy: 0.8750\n",
            "Epoch 114/150\n",
            "6/6 [==============================] - 0s 9ms/step - loss: 0.2862 - accuracy: 0.9005 - val_loss: 0.3077 - val_accuracy: 0.8750\n",
            "Epoch 115/150\n",
            "6/6 [==============================] - 0s 8ms/step - loss: 0.2852 - accuracy: 0.8953 - val_loss: 0.3081 - val_accuracy: 0.8750\n",
            "Epoch 116/150\n",
            "6/6 [==============================] - 0s 8ms/step - loss: 0.2844 - accuracy: 0.8953 - val_loss: 0.3088 - val_accuracy: 0.8542\n",
            "Epoch 117/150\n",
            "6/6 [==============================] - 0s 12ms/step - loss: 0.2833 - accuracy: 0.9005 - val_loss: 0.3091 - val_accuracy: 0.8542\n",
            "Epoch 118/150\n",
            "6/6 [==============================] - 0s 14ms/step - loss: 0.2821 - accuracy: 0.9005 - val_loss: 0.3097 - val_accuracy: 0.8542\n",
            "Epoch 119/150\n",
            "6/6 [==============================] - 0s 13ms/step - loss: 0.2810 - accuracy: 0.9005 - val_loss: 0.3100 - val_accuracy: 0.8542\n",
            "Epoch 120/150\n",
            "6/6 [==============================] - 0s 12ms/step - loss: 0.2800 - accuracy: 0.9058 - val_loss: 0.3111 - val_accuracy: 0.8542\n",
            "Epoch 121/150\n",
            "6/6 [==============================] - 0s 10ms/step - loss: 0.2790 - accuracy: 0.9058 - val_loss: 0.3115 - val_accuracy: 0.8542\n",
            "Epoch 122/150\n",
            "6/6 [==============================] - 0s 8ms/step - loss: 0.2779 - accuracy: 0.9058 - val_loss: 0.3124 - val_accuracy: 0.8542\n",
            "Epoch 123/150\n",
            "6/6 [==============================] - 0s 9ms/step - loss: 0.2767 - accuracy: 0.9058 - val_loss: 0.3129 - val_accuracy: 0.8542\n",
            "Epoch 124/150\n",
            "6/6 [==============================] - 0s 8ms/step - loss: 0.2758 - accuracy: 0.9005 - val_loss: 0.3133 - val_accuracy: 0.8542\n",
            "Epoch 125/150\n",
            "6/6 [==============================] - 0s 8ms/step - loss: 0.2746 - accuracy: 0.9005 - val_loss: 0.3142 - val_accuracy: 0.8542\n",
            "Epoch 126/150\n",
            "6/6 [==============================] - 0s 10ms/step - loss: 0.2736 - accuracy: 0.9005 - val_loss: 0.3141 - val_accuracy: 0.8542\n",
            "Epoch 127/150\n",
            "6/6 [==============================] - 0s 13ms/step - loss: 0.2728 - accuracy: 0.9005 - val_loss: 0.3152 - val_accuracy: 0.8542\n",
            "Epoch 128/150\n",
            "6/6 [==============================] - 0s 9ms/step - loss: 0.2717 - accuracy: 0.9005 - val_loss: 0.3159 - val_accuracy: 0.8542\n",
            "Epoch 129/150\n",
            "6/6 [==============================] - 0s 8ms/step - loss: 0.2704 - accuracy: 0.9005 - val_loss: 0.3157 - val_accuracy: 0.8542\n",
            "Epoch 130/150\n",
            "6/6 [==============================] - 0s 9ms/step - loss: 0.2696 - accuracy: 0.9005 - val_loss: 0.3167 - val_accuracy: 0.8542\n",
            "Epoch 131/150\n",
            "6/6 [==============================] - 0s 12ms/step - loss: 0.2685 - accuracy: 0.9058 - val_loss: 0.3172 - val_accuracy: 0.8542\n",
            "Epoch 132/150\n",
            "6/6 [==============================] - 0s 9ms/step - loss: 0.2674 - accuracy: 0.9058 - val_loss: 0.3184 - val_accuracy: 0.8542\n",
            "Epoch 133/150\n",
            "6/6 [==============================] - 0s 13ms/step - loss: 0.2662 - accuracy: 0.9005 - val_loss: 0.3189 - val_accuracy: 0.8542\n",
            "Epoch 134/150\n",
            "6/6 [==============================] - 0s 14ms/step - loss: 0.2652 - accuracy: 0.9005 - val_loss: 0.3188 - val_accuracy: 0.8542\n",
            "Epoch 135/150\n",
            "6/6 [==============================] - 0s 12ms/step - loss: 0.2644 - accuracy: 0.9005 - val_loss: 0.3197 - val_accuracy: 0.8542\n",
            "Epoch 136/150\n",
            "6/6 [==============================] - 0s 8ms/step - loss: 0.2633 - accuracy: 0.9005 - val_loss: 0.3207 - val_accuracy: 0.8542\n",
            "Epoch 137/150\n",
            "6/6 [==============================] - 0s 12ms/step - loss: 0.2622 - accuracy: 0.9005 - val_loss: 0.3216 - val_accuracy: 0.8542\n",
            "Epoch 138/150\n",
            "6/6 [==============================] - 0s 9ms/step - loss: 0.2611 - accuracy: 0.9005 - val_loss: 0.3229 - val_accuracy: 0.8542\n",
            "Epoch 139/150\n",
            "6/6 [==============================] - 0s 9ms/step - loss: 0.2602 - accuracy: 0.9005 - val_loss: 0.3231 - val_accuracy: 0.8542\n",
            "Epoch 140/150\n",
            "6/6 [==============================] - 0s 12ms/step - loss: 0.2592 - accuracy: 0.9005 - val_loss: 0.3243 - val_accuracy: 0.8542\n",
            "Epoch 141/150\n",
            "6/6 [==============================] - 0s 14ms/step - loss: 0.2580 - accuracy: 0.9005 - val_loss: 0.3252 - val_accuracy: 0.8542\n",
            "Epoch 142/150\n",
            "6/6 [==============================] - 0s 9ms/step - loss: 0.2571 - accuracy: 0.9005 - val_loss: 0.3254 - val_accuracy: 0.8542\n",
            "Epoch 143/150\n",
            "6/6 [==============================] - 0s 12ms/step - loss: 0.2561 - accuracy: 0.9005 - val_loss: 0.3258 - val_accuracy: 0.8333\n",
            "Epoch 144/150\n",
            "6/6 [==============================] - 0s 9ms/step - loss: 0.2549 - accuracy: 0.9005 - val_loss: 0.3271 - val_accuracy: 0.8333\n",
            "Epoch 145/150\n",
            "6/6 [==============================] - 0s 9ms/step - loss: 0.2538 - accuracy: 0.9005 - val_loss: 0.3282 - val_accuracy: 0.8125\n",
            "Epoch 146/150\n",
            "6/6 [==============================] - 0s 10ms/step - loss: 0.2529 - accuracy: 0.9005 - val_loss: 0.3287 - val_accuracy: 0.8125\n",
            "Epoch 147/150\n",
            "6/6 [==============================] - 0s 9ms/step - loss: 0.2518 - accuracy: 0.9005 - val_loss: 0.3299 - val_accuracy: 0.8125\n",
            "Epoch 148/150\n",
            "6/6 [==============================] - 0s 10ms/step - loss: 0.2507 - accuracy: 0.9005 - val_loss: 0.3312 - val_accuracy: 0.8125\n",
            "Epoch 149/150\n",
            "6/6 [==============================] - 0s 12ms/step - loss: 0.2498 - accuracy: 0.9005 - val_loss: 0.3317 - val_accuracy: 0.8125\n",
            "Epoch 150/150\n",
            "6/6 [==============================] - 0s 10ms/step - loss: 0.2488 - accuracy: 0.9005 - val_loss: 0.3324 - val_accuracy: 0.8125\n"
          ]
        }
      ]
    },
    {
      "cell_type": "code",
      "source": [
        "# step 5: make predictions\n",
        "y_pred = ann.predict(X_test)\n",
        "y_pred"
      ],
      "metadata": {
        "colab": {
          "base_uri": "https://localhost:8080/"
        },
        "id": "RdrnRkeuxXlV",
        "outputId": "3ffb7743-b1be-485a-992b-b73ffc31d409"
      },
      "execution_count": 17,
      "outputs": [
        {
          "output_type": "stream",
          "name": "stdout",
          "text": [
            "2/2 [==============================] - 0s 6ms/step\n"
          ]
        },
        {
          "output_type": "execute_result",
          "data": {
            "text/plain": [
              "array([[5.6291646e-01],\n",
              "       [8.4400669e-02],\n",
              "       [1.0792710e-02],\n",
              "       [3.4195152e-01],\n",
              "       [1.1708825e-02],\n",
              "       [5.2020136e-02],\n",
              "       [6.2205382e-02],\n",
              "       [3.1800143e-02],\n",
              "       [2.3907950e-02],\n",
              "       [8.0514497e-01],\n",
              "       [7.9514199e-01],\n",
              "       [4.8968709e-01],\n",
              "       [8.0889231e-01],\n",
              "       [4.2456616e-02],\n",
              "       [2.0562400e-01],\n",
              "       [1.9417398e-01],\n",
              "       [8.3172190e-01],\n",
              "       [2.9036936e-01],\n",
              "       [2.0525673e-01],\n",
              "       [6.0600036e-01],\n",
              "       [1.6603772e-02],\n",
              "       [6.2161712e-03],\n",
              "       [3.8612181e-01],\n",
              "       [2.1511118e-01],\n",
              "       [5.3075773e-01],\n",
              "       [6.5496795e-02],\n",
              "       [3.5690423e-02],\n",
              "       [5.9423786e-01],\n",
              "       [5.0989735e-01],\n",
              "       [6.6816825e-01],\n",
              "       [2.1678555e-01],\n",
              "       [1.9325352e-01],\n",
              "       [9.7599748e-04],\n",
              "       [2.1181139e-03],\n",
              "       [3.7843511e-01],\n",
              "       [1.5000390e-02],\n",
              "       [2.7494353e-01],\n",
              "       [6.7775510e-02],\n",
              "       [2.4826832e-02],\n",
              "       [2.2854013e-03],\n",
              "       [4.4204746e-03],\n",
              "       [3.9427146e-01],\n",
              "       [1.8947221e-01],\n",
              "       [9.5273711e-04],\n",
              "       [4.3865282e-02],\n",
              "       [4.2891923e-02],\n",
              "       [2.2958335e-03],\n",
              "       [9.1191649e-01],\n",
              "       [4.3970287e-02],\n",
              "       [4.7416048e-04],\n",
              "       [7.3146284e-01],\n",
              "       [2.4568458e-04],\n",
              "       [9.4857715e-02],\n",
              "       [1.3643870e-01],\n",
              "       [7.7790475e-01],\n",
              "       [2.7104491e-01],\n",
              "       [7.3600608e-01],\n",
              "       [4.4750604e-01],\n",
              "       [7.9199350e-01],\n",
              "       [8.4212637e-03]], dtype=float32)"
            ]
          },
          "metadata": {},
          "execution_count": 17
        }
      ]
    },
    {
      "cell_type": "code",
      "source": [
        "\n",
        "# step 6: set the threshold\n",
        "y_pred = np.where(y_pred<0.5, 0, 1)\n",
        "y_pred"
      ],
      "metadata": {
        "colab": {
          "base_uri": "https://localhost:8080/"
        },
        "id": "hxd_6e_70rRt",
        "outputId": "91a7a50c-678d-4dcd-cad4-cfbc4063a1c2"
      },
      "execution_count": 18,
      "outputs": [
        {
          "output_type": "execute_result",
          "data": {
            "text/plain": [
              "array([[1],\n",
              "       [0],\n",
              "       [0],\n",
              "       [0],\n",
              "       [0],\n",
              "       [0],\n",
              "       [0],\n",
              "       [0],\n",
              "       [0],\n",
              "       [1],\n",
              "       [1],\n",
              "       [0],\n",
              "       [1],\n",
              "       [0],\n",
              "       [0],\n",
              "       [0],\n",
              "       [1],\n",
              "       [0],\n",
              "       [0],\n",
              "       [1],\n",
              "       [0],\n",
              "       [0],\n",
              "       [0],\n",
              "       [0],\n",
              "       [1],\n",
              "       [0],\n",
              "       [0],\n",
              "       [1],\n",
              "       [1],\n",
              "       [1],\n",
              "       [0],\n",
              "       [0],\n",
              "       [0],\n",
              "       [0],\n",
              "       [0],\n",
              "       [0],\n",
              "       [0],\n",
              "       [0],\n",
              "       [0],\n",
              "       [0],\n",
              "       [0],\n",
              "       [0],\n",
              "       [0],\n",
              "       [0],\n",
              "       [0],\n",
              "       [0],\n",
              "       [0],\n",
              "       [1],\n",
              "       [0],\n",
              "       [0],\n",
              "       [1],\n",
              "       [0],\n",
              "       [0],\n",
              "       [0],\n",
              "       [1],\n",
              "       [0],\n",
              "       [1],\n",
              "       [0],\n",
              "       [1],\n",
              "       [0]])"
            ]
          },
          "metadata": {},
          "execution_count": 18
        }
      ]
    },
    {
      "cell_type": "code",
      "source": [
        "from sklearn.metrics import classification_report\n",
        "print(classification_report(y_test, y_pred))"
      ],
      "metadata": {
        "colab": {
          "base_uri": "https://localhost:8080/"
        },
        "id": "fdi2GA08yT1t",
        "outputId": "12cc217c-2f41-4cb5-a0cb-758fa98b3283"
      },
      "execution_count": 19,
      "outputs": [
        {
          "output_type": "stream",
          "name": "stdout",
          "text": [
            "              precision    recall  f1-score   support\n",
            "\n",
            "           0       0.82      0.86      0.84        43\n",
            "           1       0.60      0.53      0.56        17\n",
            "\n",
            "    accuracy                           0.77        60\n",
            "   macro avg       0.71      0.69      0.70        60\n",
            "weighted avg       0.76      0.77      0.76        60\n",
            "\n"
          ]
        }
      ]
    },
    {
      "cell_type": "code",
      "source": [
        "plt.plot(history.history[\"loss\"])\n",
        "plt.plot(history.history[\"val_loss\"])"
      ],
      "metadata": {
        "colab": {
          "base_uri": "https://localhost:8080/",
          "height": 282
        },
        "id": "1ksPLplqz9bc",
        "outputId": "197876b6-81f6-493f-ef13-44856f937387"
      },
      "execution_count": 20,
      "outputs": [
        {
          "output_type": "execute_result",
          "data": {
            "text/plain": [
              "[<matplotlib.lines.Line2D at 0x7f0798e73b20>]"
            ]
          },
          "metadata": {},
          "execution_count": 20
        },
        {
          "output_type": "display_data",
          "data": {
            "text/plain": [
              "<Figure size 432x288 with 1 Axes>"
            ],
            "image/png": "[encoded data removed]"
          },
          "metadata": {
            "needs_background": "light"
          }
        }
      ]
    },
    {
      "cell_type": "code",
      "source": [],
      "metadata": {
        "id": "C472Hol73Hjz"
      },
      "execution_count": 20,
      "outputs": []
    }
  ]
}